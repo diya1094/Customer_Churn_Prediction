{
  "nbformat": 4,
  "nbformat_minor": 0,
  "metadata": {
    "colab": {
      "provenance": [],
      "include_colab_link": true
    },
    "kernelspec": {
      "name": "python3",
      "display_name": "Python 3"
    },
    "language_info": {
      "name": "python"
    }
  },
  "cells": [
    {
      "cell_type": "markdown",
      "metadata": {
        "id": "view-in-github",
        "colab_type": "text"
      },
      "source": [
        "<a href=\"https://colab.research.google.com/github/diya1094/Customer_Churn_Prediction/blob/main/Customer_Churn_Prediciton.ipynb\" target=\"_parent\"><img src=\"https://colab.research.google.com/assets/colab-badge.svg\" alt=\"Open In Colab\"/></a>"
      ]
    },
    {
      "cell_type": "code",
      "execution_count": null,
      "metadata": {
        "colab": {
          "base_uri": "https://localhost:8080/"
        },
        "id": "v_1GOA6z7fBD",
        "outputId": "b95e4113-0de3-4787-9585-2ffb7f452337"
      },
      "outputs": [
        {
          "output_type": "stream",
          "name": "stdout",
          "text": [
            "Mounted at /content/drive\n"
          ]
        }
      ],
      "source": [
        "#mounting drive\n",
        "from google.colab import drive\n",
        "drive.mount('/content/drive')"
      ]
    },
    {
      "cell_type": "code",
      "source": [
        "#importing file\n",
        "import pandas as pd\n",
        "file_path = '/content/drive/MyDrive/Celebal/WA_Fn-UseC_-Telco-Customer-Churn.csv.xlsx'\n",
        "df = pd.read_excel(file_path)"
      ],
      "metadata": {
        "id": "-FfB3Bor7scN"
      },
      "execution_count": null,
      "outputs": []
    },
    {
      "cell_type": "code",
      "source": [
        "# Set style for plots\n",
        "import matplotlib.pyplot as plt\n",
        "import seaborn as sns\n",
        "plt.style.use('seaborn-v0_8')\n",
        "sns.set_palette(\"husl\")\n",
        "\n",
        "print(\"=\" * 55)\n",
        "print(\"TELCOMMUNICATION CUSTOMER CHURN PREDICTION ANALYSIS\")\n",
        "print(\"=\" * 55)\n",
        "\n",
        "print(f\"Dataset shape: {df.shape}\")\n",
        "print(f\"Columns: {list(df.columns)}\")\n",
        "print(f\"\\nMissing values:\\n{df.isnull().sum()}\")"
      ],
      "metadata": {
        "id": "5JisW1Hg8aF8",
        "colab": {
          "base_uri": "https://localhost:8080/"
        },
        "outputId": "44dec67e-d895-47d3-b7fa-8f32a0d0b902"
      },
      "execution_count": null,
      "outputs": [
        {
          "output_type": "stream",
          "name": "stdout",
          "text": [
            "=======================================================\n",
            "TELCOMMUNICATION CUSTOMER CHURN PREDICTION ANALYSIS\n",
            "=======================================================\n",
            "Dataset shape: (7043, 21)\n",
            "Columns: ['customerID', 'gender', 'SeniorCitizen', 'Partner', 'Dependents', 'tenure', 'PhoneService', 'MultipleLines', 'InternetService', 'OnlineSecurity', 'OnlineBackup', 'DeviceProtection', 'TechSupport', 'StreamingTV', 'StreamingMovies', 'Contract', 'PaperlessBilling', 'PaymentMethod', 'MonthlyCharges', 'TotalCharges', 'Churn']\n",
            "\n",
            "Missing values:\n",
            "customerID          0\n",
            "gender              0\n",
            "SeniorCitizen       0\n",
            "Partner             0\n",
            "Dependents          0\n",
            "tenure              0\n",
            "PhoneService        0\n",
            "MultipleLines       0\n",
            "InternetService     0\n",
            "OnlineSecurity      0\n",
            "OnlineBackup        0\n",
            "DeviceProtection    0\n",
            "TechSupport         0\n",
            "StreamingTV         0\n",
            "StreamingMovies     0\n",
            "Contract            0\n",
            "PaperlessBilling    0\n",
            "PaymentMethod       0\n",
            "MonthlyCharges      0\n",
            "TotalCharges        0\n",
            "Churn               0\n",
            "dtype: int64\n"
          ]
        }
      ]
    },
    {
      "cell_type": "code",
      "source": [
        "# Convert TotalCharges to numeric\n",
        "df['TotalCharges'] = pd.to_numeric(df['TotalCharges'], errors='coerce')\n",
        "\n",
        "# Convert binary categorical variables\n",
        "binary_cols = ['Partner', 'Dependents', 'PhoneService', 'PaperlessBilling']\n",
        "for col in binary_cols:\n",
        "    df[col] = df[col].map({'Yes': 1, 'No': 0})\n",
        "\n",
        "df['Churn'] = df['Churn'].astype(str).str.strip().str.lower()\n",
        "print(df['Churn'].unique())\n",
        "df['Churn'] = df['Churn'].map({'yes': 1, 'no': 0})"
      ],
      "metadata": {
        "id": "3kfxDt2lpg7K",
        "colab": {
          "base_uri": "https://localhost:8080/"
        },
        "outputId": "20e4301a-fb3e-41db-ceaf-31cf85529422"
      },
      "execution_count": null,
      "outputs": [
        {
          "output_type": "stream",
          "name": "stdout",
          "text": [
            "['no' 'yes']\n"
          ]
        }
      ]
    },
    {
      "cell_type": "code",
      "source": [
        "churn_rate = df['Churn'].mean()\n",
        "print(f\"Overall Churn Rate: {churn_rate:.3f} ({churn_rate*100:.1f}%)\")\n",
        "\n",
        "# Key statistics by churn status\n",
        "numeric_cols = ['tenure', 'MonthlyCharges', 'TotalCharges']\n",
        "print(f\"\\nKey Statistics by Churn Status:\")\n",
        "print(df.groupby('Churn')[numeric_cols].mean().round(2))"
      ],
      "metadata": {
        "colab": {
          "base_uri": "https://localhost:8080/"
        },
        "id": "Ed8hmyx7HbUz",
        "outputId": "6e44aed8-8c66-47c6-afe9-580a34807647"
      },
      "execution_count": null,
      "outputs": [
        {
          "output_type": "stream",
          "name": "stdout",
          "text": [
            "Overall Churn Rate: 0.265 (26.5%)\n",
            "\n",
            "Key Statistics by Churn Status:\n",
            "       tenure  MonthlyCharges  TotalCharges\n",
            "Churn                                      \n",
            "0       37.57           61.27       2555.34\n",
            "1       17.98           74.44       1531.80\n"
          ]
        }
      ]
    },
    {
      "cell_type": "code",
      "source": [
        "from sklearn.preprocessing import LabelEncoder\n",
        "df_model = df.copy()\n",
        "\n",
        "# Encode categorical variables\n",
        "le = LabelEncoder()\n",
        "categorical_cols = ['gender','MultipleLines', 'InternetService', 'OnlineSecurity',\n",
        "                   'OnlineBackup', 'DeviceProtection', 'TechSupport', 'StreamingTV',\n",
        "                   'StreamingMovies', 'Contract', 'PaymentMethod']\n",
        "\n",
        "for col in categorical_cols:\n",
        "    df_model[col] = le.fit_transform(df_model[col])\n",
        "\n",
        "# Create new features\n",
        "df_model['AvgChargePerMonth'] = df_model['TotalCharges'] / (df_model['tenure'] + 1)\n",
        "df_model['IsNewCustomer'] = (df_model['tenure'] <= 12).astype(int)\n",
        "# Create more powerful features\n",
        "df_model['TenureGroup'] = pd.cut(df_model['tenure'], bins=[0, 12, 24, 48, 72], labels=[0, 1, 2, 3])\n",
        "df_model['ChargesRatio'] = df_model['MonthlyCharges'] / (df_model['TotalCharges'] + 1)\n",
        "df_model['HighCharges'] = (df_model['MonthlyCharges'] > df_model['MonthlyCharges'].quantile(0.75)).astype(int)\n",
        "df_model['NewCustomer'] = (df_model['tenure'] <= 6).astype(int)\n",
        "\n",
        "service_cols = ['OnlineSecurity', 'OnlineBackup', 'DeviceProtection', 'TechSupport', 'StreamingTV', 'StreamingMovies']\n",
        "df_model['ServiceCount'] = sum([(df[col] == 1).astype(int) for col in service_cols if col in df_model.columns])\n",
        "\n",
        "print(f\"Feature engineering completed! Dataset shape: {df_model.shape}\")"
      ],
      "metadata": {
        "colab": {
          "base_uri": "https://localhost:8080/"
        },
        "id": "nU2ILbk9HlEL",
        "outputId": "047f4fbe-aa09-41b9-a7a0-7d1a0b33fde6"
      },
      "execution_count": null,
      "outputs": [
        {
          "output_type": "stream",
          "name": "stdout",
          "text": [
            "Feature engineering completed! Dataset shape: (7043, 28)\n"
          ]
        }
      ]
    },
    {
      "cell_type": "code",
      "source": [
        "import numpy as np\n",
        "from sklearn.model_selection import train_test_split, GridSearchCV\n",
        "from sklearn.preprocessing import StandardScaler\n",
        "from sklearn.ensemble import RandomForestClassifier, GradientBoostingClassifier\n",
        "from sklearn.linear_model import LogisticRegression\n",
        "from sklearn.metrics import accuracy_score, precision_score, recall_score, f1_score\n",
        "from sklearn.metrics import confusion_matrix, classification_report, roc_auc_score\n",
        "import warnings\n",
        "warnings.filterwarnings('ignore')\n",
        "\n",
        "# Drop 'CustomerID' and apply one-hot encoding to categorical features\n",
        "df_model_cleaned = df_model.drop(['customerID'], axis=1)\n",
        "\n",
        "# One-hot encode categorical variables\n",
        "df_encoded = pd.get_dummies(df_model_cleaned, drop_first=True)\n",
        "\n",
        "# Now separate features and target\n",
        "X = df_encoded.drop('Churn', axis=1)\n",
        "y = df_encoded['Churn']\n",
        "\n",
        "# Train-test split\n",
        "X_train, X_test, y_train, y_test = train_test_split(X, y, test_size=0.2, random_state=42, stratify=y)\n",
        "\n",
        "print(f\"Training set: {X_train.shape}, Test set: {X_test.shape}\")\n",
        "\n",
        "#  Fill ALL missing values (for numeric and dummy variables)\n",
        "X_train = X_train.fillna(X_train.median(numeric_only=True))\n",
        "X_test = X_test.fillna(X_train.median(numeric_only=True))  # Use training medians\n",
        "\n",
        "# If still any NaNs in dummy columns (rare), replace them with 0\n",
        "X_train.fillna(0, inplace=True)\n",
        "X_test.fillna(0, inplace=True)\n",
        "\n",
        "# Scale numerical features\n",
        "scaler = StandardScaler()\n",
        "numeric_features = ['tenure', 'MonthlyCharges', 'TotalCharges', 'AvgChargePerMonth']\n",
        "\n",
        "X_train_scaled = X_train.copy()\n",
        "X_test_scaled = X_test.copy()\n",
        "\n",
        "X_train_scaled[numeric_features] = scaler.fit_transform(X_train[numeric_features])\n",
        "X_test_scaled[numeric_features] = scaler.transform(X_test[numeric_features])\n",
        "\n",
        "# Define models\n",
        "models = {\n",
        "    'Logistic Regression': LogisticRegression(random_state=42, max_iter=1000),\n",
        "    'Random Forest': RandomForestClassifier(random_state=42, n_estimators=100),\n",
        "    'Gradient Boosting': GradientBoostingClassifier(random_state=42)\n",
        "}\n",
        "\n",
        "# Train and evaluate models\n",
        "results = {}\n",
        "print(\"Training models...\")\n",
        "\n",
        "for name, model in models.items():\n",
        "    print(f\"\\nTraining {name}...\")\n",
        "\n",
        "    # Use scaled data for Logistic Regression\n",
        "    if name == 'Logistic Regression':\n",
        "        model.fit(X_train_scaled, y_train)\n",
        "        y_pred = model.predict(X_test_scaled)\n",
        "        y_pred_proba = model.predict_proba(X_test_scaled)[:, 1]\n",
        "    else:\n",
        "        model.fit(X_train, y_train)\n",
        "        y_pred = model.predict(X_test)\n",
        "        y_pred_proba = model.predict_proba(X_test)[:, 1]\n",
        "\n",
        "    # Calculate metrics\n",
        "    accuracy = accuracy_score(y_test, y_pred)\n",
        "    precision = precision_score(y_test, y_pred)\n",
        "    recall = recall_score(y_test, y_pred)\n",
        "    f1 = f1_score(y_test, y_pred)\n",
        "    auc_roc = roc_auc_score(y_test, y_pred_proba)\n",
        "\n",
        "    results[name] = {\n",
        "        'Accuracy': accuracy,\n",
        "        'Precision': precision,\n",
        "        'Recall': recall,\n",
        "        'F1-Score': f1,\n",
        "        'AUC-ROC': auc_roc,\n",
        "        'Model': model\n",
        "    }\n",
        "\n",
        "    print(f\"Accuracy: {accuracy:.4f}, AUC-ROC: {auc_roc:.4f}\")"
      ],
      "metadata": {
        "colab": {
          "base_uri": "https://localhost:8080/"
        },
        "id": "e_t60ZSMFdCN",
        "outputId": "566517b5-5456-4eb8-b2bf-3b48b37f572e"
      },
      "execution_count": null,
      "outputs": [
        {
          "output_type": "stream",
          "name": "stdout",
          "text": [
            "Training set: (5634, 28), Test set: (1409, 28)\n",
            "Training models...\n",
            "\n",
            "Training Logistic Regression...\n",
            "Accuracy: 0.7935, AUC-ROC: 0.8420\n",
            "\n",
            "Training Random Forest...\n",
            "Accuracy: 0.7800, AUC-ROC: 0.8124\n",
            "\n",
            "Training Gradient Boosting...\n",
            "Accuracy: 0.8006, AUC-ROC: 0.8436\n"
          ]
        }
      ]
    },
    {
      "cell_type": "code",
      "source": [
        "# Comparision of model\n",
        "comparison_df = pd.DataFrame(results).T.drop('Model', axis=1)\n",
        "print(comparison_df.round(4))\n",
        "\n",
        "# Find best model based on AUC-ROC\n",
        "best_model_name = comparison_df['AUC-ROC'].idxmax()\n",
        "best_model = results[best_model_name]['Model']\n",
        "print(f\"\\nBest Model: {best_model_name}\")\n",
        "print(f\"Best AUC-ROC Score: {comparison_df.loc[best_model_name, 'AUC-ROC']:.4f}\")"
      ],
      "metadata": {
        "colab": {
          "base_uri": "https://localhost:8080/"
        },
        "id": "J60De_Y4JrgI",
        "outputId": "8880a198-45be-4326-ba77-6f4456636fc7"
      },
      "execution_count": null,
      "outputs": [
        {
          "output_type": "stream",
          "name": "stdout",
          "text": [
            "                     Accuracy Precision    Recall  F1-Score   AUC-ROC\n",
            "Logistic Regression  0.793471  0.638796  0.510695  0.567608  0.842024\n",
            "Random Forest        0.779986  0.606667  0.486631  0.540059  0.812355\n",
            "Gradient Boosting    0.800568   0.66787  0.494652  0.568356   0.84356\n",
            "\n",
            "Best Model: Gradient Boosting\n",
            "Best AUC-ROC Score: 0.8436\n"
          ]
        }
      ]
    },
    {
      "cell_type": "code",
      "source": [
        "# Analysis of best model\n",
        "\n",
        "# Make predictions with best model\n",
        "if best_model_name == 'Logistic Regression':\n",
        "    y_pred_best = best_model.predict(X_test_scaled)\n",
        "    y_pred_proba_best = best_model.predict_proba(X_test_scaled)[:, 1]\n",
        "else:\n",
        "    y_pred_best = best_model.predict(X_test)\n",
        "    y_pred_proba_best = best_model.predict_proba(X_test)[:, 1]\n",
        "\n",
        "# Confusion Matrix and Classification Report\n",
        "cm = confusion_matrix(y_test, y_pred_best)\n",
        "print(\"Confusion Matrix:\")\n",
        "print(cm)\n",
        "print(\"\\nClassification Report:\")\n",
        "print(classification_report(y_test, y_pred_best))\n",
        "\n",
        "# Feature Importance (for tree-based models)\n",
        "if hasattr(best_model, 'feature_importances_'):\n",
        "    feature_importance = pd.DataFrame({\n",
        "        'Feature': X.columns,\n",
        "        'Importance': best_model.feature_importances_\n",
        "    }).sort_values('Importance', ascending=False)\n",
        "\n",
        "    print(\"\\nTop 10 Most Important Features:\")\n",
        "    print(feature_importance.head(10))"
      ],
      "metadata": {
        "colab": {
          "base_uri": "https://localhost:8080/"
        },
        "id": "b0bg1YkcNQR4",
        "outputId": "10ae81d1-2860-4ff2-90b9-804f8e6d0c43"
      },
      "execution_count": null,
      "outputs": [
        {
          "output_type": "stream",
          "name": "stdout",
          "text": [
            "Confusion Matrix:\n",
            "[[943  92]\n",
            " [189 185]]\n",
            "\n",
            "Classification Report:\n",
            "              precision    recall  f1-score   support\n",
            "\n",
            "           0       0.83      0.91      0.87      1035\n",
            "           1       0.67      0.49      0.57       374\n",
            "\n",
            "    accuracy                           0.80      1409\n",
            "   macro avg       0.75      0.70      0.72      1409\n",
            "weighted avg       0.79      0.80      0.79      1409\n",
            "\n",
            "\n",
            "Top 10 Most Important Features:\n",
            "              Feature  Importance\n",
            "14           Contract    0.401488\n",
            "21       ChargesRatio    0.185226\n",
            "17     MonthlyCharges    0.121584\n",
            "8      OnlineSecurity    0.082215\n",
            "11        TechSupport    0.053549\n",
            "18       TotalCharges    0.035039\n",
            "19  AvgChargePerMonth    0.028116\n",
            "16      PaymentMethod    0.023269\n",
            "4              tenure    0.018711\n",
            "9        OnlineBackup    0.010922\n"
          ]
        }
      ]
    },
    {
      "cell_type": "code",
      "source": [
        "#Hyperparameter Tuning\n",
        "param_grids = {\n",
        "    'Random Forest': {\n",
        "        'n_estimators': [100, 200],\n",
        "        'max_depth': [10, 15, None],\n",
        "        'min_samples_split': [2, 5]\n",
        "    },\n",
        "    'Gradient Boosting': {\n",
        "        'n_estimators': [100, 200],\n",
        "        'learning_rate': [0.05, 0.1, 0.15],\n",
        "        'max_depth': [3, 5]\n",
        "    },\n",
        "    'Logistic Regression': {\n",
        "        'C': [0.1, 1, 10],\n",
        "        'penalty': ['l1', 'l2'],\n",
        "        'solver': ['liblinear']\n",
        "    }\n",
        "}\n",
        "\n",
        "if best_model_name in param_grids:\n",
        "    print(f\"Tuning hyperparameters for {best_model_name}...\")\n",
        "\n",
        "    if best_model_name == 'Logistic Regression':\n",
        "        X_tune, y_tune = X_train_scaled, y_train\n",
        "    else:\n",
        "        X_tune, y_tune = X_train, y_train\n",
        "\n",
        "    grid_search = GridSearchCV(\n",
        "        models[best_model_name],\n",
        "        param_grids[best_model_name],\n",
        "        cv=5,\n",
        "        scoring='roc_auc',\n",
        "        n_jobs=-1\n",
        "    )\n",
        "    grid_search.fit(X_tune, y_tune)\n",
        "\n",
        "    print(f\"Best parameters: {grid_search.best_params_}\")\n",
        "    print(f\"Best cross-validation score: {grid_search.best_score_:.4f}\")\n",
        "\n",
        "    best_model_tuned = grid_search.best_estimator_\n",
        "else:\n",
        "    best_model_tuned = best_model"
      ],
      "metadata": {
        "colab": {
          "base_uri": "https://localhost:8080/"
        },
        "id": "MdWY_LakNeb8",
        "outputId": "4ce6c35b-c8c6-4ac1-969d-58f0fe6a2d7e"
      },
      "execution_count": null,
      "outputs": [
        {
          "output_type": "stream",
          "name": "stdout",
          "text": [
            "Tuning hyperparameters for Gradient Boosting...\n",
            "Best parameters: {'learning_rate': 0.05, 'max_depth': 3, 'n_estimators': 100}\n",
            "Best cross-validation score: 0.8449\n"
          ]
        }
      ]
    },
    {
      "cell_type": "code",
      "source": [
        "# Make final predictions\n",
        "if best_model_name == 'Logistic Regression':\n",
        "    y_pred_final = best_model_tuned.predict(X_test_scaled)\n",
        "    y_pred_proba_final = best_model_tuned.predict_proba(X_test_scaled)[:, 1]\n",
        "else:\n",
        "    y_pred_final = best_model_tuned.predict(X_test)\n",
        "    y_pred_proba_final = best_model_tuned.predict_proba(X_test)[:, 1]\n",
        "\n",
        "# Calculate final metrics\n",
        "final_accuracy = accuracy_score(y_test, y_pred_final)\n",
        "final_precision = precision_score(y_test, y_pred_final)\n",
        "final_recall = recall_score(y_test, y_pred_final)\n",
        "final_f1 = f1_score(y_test, y_pred_final)\n",
        "final_auc = roc_auc_score(y_test, y_pred_proba_final)\n",
        "\n",
        "print(\"FINAL MODEL PERFORMANCE:\")\n",
        "print(f\"Accuracy: {final_accuracy:.4f}\")\n",
        "print(f\"Precision: {final_precision:.4f}\")\n",
        "print(f\"Recall: {final_recall:.4f}\")\n",
        "print(f\"F1-Score: {final_f1:.4f}\")\n",
        "print(f\"AUC-ROC: {final_auc:.4f}\")"
      ],
      "metadata": {
        "colab": {
          "base_uri": "https://localhost:8080/"
        },
        "id": "6qAWFxhNNnoD",
        "outputId": "cae7bc17-9d88-49a3-d516-16d89b757156"
      },
      "execution_count": null,
      "outputs": [
        {
          "output_type": "stream",
          "name": "stdout",
          "text": [
            "FINAL MODEL PERFORMANCE:\n",
            "Accuracy: 0.8020\n",
            "Precision: 0.6792\n",
            "Recall: 0.4813\n",
            "F1-Score: 0.5634\n",
            "AUC-ROC: 0.8461\n"
          ]
        }
      ]
    },
    {
      "cell_type": "code",
      "source": [
        "print(\"\\n\" + \"=\"*60)\n",
        "print(\"ANALYSIS COMPLETED SUCCESSFULLY!\")\n",
        "print(\"=\"*60)\n",
        "\n",
        "# Results summary\n",
        "results_summary = {\n",
        "    'best_model': best_model_name,\n",
        "    'final_accuracy': final_accuracy,\n",
        "    'final_precision': final_precision,\n",
        "    'final_recall': final_recall,\n",
        "    'final_f1': final_f1,\n",
        "    'final_auc': final_auc,\n",
        "    'churn_rate': churn_rate\n",
        "}\n",
        "\n",
        "print(f\"\\nRESULTS SUMMARY: {results_summary}\")\n",
        "\n",
        "print(\"\\nFINAL MODEL EVALUATION\")\n",
        "print(\"-\" * 30)\n",
        "\n",
        "# Make final predictions\n",
        "if best_model_name in ['SVM', 'Logistic Regression']:\n",
        "    y_pred_final = best_model_tuned.predict(X_test_scaled)\n",
        "    y_pred_proba_final = best_model_tuned.predict_proba(X_test_scaled)[:, 1]\n",
        "else:\n",
        "    y_pred_final = best_model_tuned.predict(X_test)\n",
        "    y_pred_proba_final = best_model_tuned.predict_proba(X_test)[:, 1]\n",
        "\n",
        "# Calculate final metrics\n",
        "final_accuracy = accuracy_score(y_test, y_pred_final)\n",
        "final_precision = precision_score(y_test, y_pred_final)\n",
        "final_recall = recall_score(y_test, y_pred_final)\n",
        "final_f1 = f1_score(y_test, y_pred_final)\n",
        "final_auc = roc_auc_score(y_test, y_pred_proba_final)\n",
        "\n",
        "print(\"FINAL MODEL PERFORMANCE:\")\n",
        "print(f\"Accuracy: {final_accuracy:.4f}\")\n",
        "print(f\"Precision: {final_precision:.4f}\")\n",
        "print(f\"Recall: {final_recall:.4f}\")\n",
        "print(f\"F1-Score: {final_f1:.4f}\")\n",
        "print(f\"AUC-ROC: {final_auc:.4f}\")"
      ],
      "metadata": {
        "colab": {
          "base_uri": "https://localhost:8080/"
        },
        "id": "GM5zOpt4mPI9",
        "outputId": "cf6fef75-4e50-46b3-a036-0042b9b92b84"
      },
      "execution_count": null,
      "outputs": [
        {
          "output_type": "stream",
          "name": "stdout",
          "text": [
            "\n",
            "============================================================\n",
            "ANALYSIS COMPLETED SUCCESSFULLY!\n",
            "============================================================\n",
            "\n",
            "RESULTS SUMMARY: {'best_model': 'Gradient Boosting', 'final_accuracy': 0.8019872249822569, 'final_precision': 0.6792452830188679, 'final_recall': 0.48128342245989303, 'final_f1': 0.5633802816901409, 'final_auc': np.float64(0.8460564726549381), 'churn_rate': np.float64(0.2653698707936959)}\n",
            "\n",
            "FINAL MODEL EVALUATION\n",
            "------------------------------\n",
            "FINAL MODEL PERFORMANCE:\n",
            "Accuracy: 0.8020\n",
            "Precision: 0.6792\n",
            "Recall: 0.4813\n",
            "F1-Score: 0.5634\n",
            "AUC-ROC: 0.8461\n"
          ]
        }
      ]
    },
    {
      "cell_type": "code",
      "source": [
        "print(\"KEY FINDINGS:\")\n",
        "print(f\"1. Customer churn rate: {churn_rate*100:.1f}%\")\n",
        "\n",
        "if hasattr(best_model_tuned, 'feature_importances_'):\n",
        "    top_features = feature_importance.head(5)['Feature'].tolist()\n",
        "    print(\"2. Top factors influencing churn:\")\n",
        "    for i, feature in enumerate(top_features, 1):\n",
        "        print(f\"   {i}. {feature}\")\n",
        "\n",
        "print(\"\\nBUSINESS RECOMMENDATIONS:\")\n",
        "print(\"1. Focus retention efforts on month-to-month contract customers\")\n",
        "print(\"2. Offer incentives to customers with high monthly charges\")\n",
        "print(\"3. Improve customer experience in first 12 months\")\n",
        "print(\"4. Promote longer-term contracts with discounts\")\n",
        "print(\"5. Target customers with fiber optic internet for retention campaigns\")"
      ],
      "metadata": {
        "colab": {
          "base_uri": "https://localhost:8080/"
        },
        "id": "2bmc7fsSdJgS",
        "outputId": "db93b960-546b-4c11-95a9-29547a317ed7"
      },
      "execution_count": null,
      "outputs": [
        {
          "output_type": "stream",
          "name": "stdout",
          "text": [
            "KEY FINDINGS:\n",
            "1. Customer churn rate: 26.5%\n",
            "2. Top factors influencing churn:\n",
            "   1. Contract\n",
            "   2. ChargesRatio\n",
            "   3. MonthlyCharges\n",
            "   4. OnlineSecurity\n",
            "   5. TechSupport\n",
            "\n",
            "BUSINESS RECOMMENDATIONS:\n",
            "1. Focus retention efforts on month-to-month contract customers\n",
            "2. Offer incentives to customers with high monthly charges\n",
            "3. Improve customer experience in first 12 months\n",
            "4. Promote longer-term contracts with discounts\n",
            "5. Target customers with fiber optic internet for retention campaigns\n"
          ]
        }
      ]
    }
  ]
}